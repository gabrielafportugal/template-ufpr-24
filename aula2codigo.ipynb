{
 "cells": [
  {
   "cell_type": "code",
   "execution_count": 7,
   "metadata": {},
   "outputs": [],
   "source": [
    "def calcular_populacao():\n",
    "    parana_populacao = 11\n",
    "    parana_crescimento = 0.02\n",
    "    parana_populacao * parana_crescimento\n",
    "    populacao_a_mais_2025 = parana_populacao * parana_crescimento \n",
    "    populacao_2025 = populacao_a_mais_2025 + parana_populacao\n",
    "    print (populacao_2025)"
   ]
  },
  {
   "cell_type": "code",
   "execution_count": 8,
   "metadata": {},
   "outputs": [
    {
     "name": "stdout",
     "output_type": "stream",
     "text": [
      "11.22\n"
     ]
    }
   ],
   "source": [
    "calcular_populacao()\n"
   ]
  },
  {
   "cell_type": "code",
   "execution_count": 30,
   "metadata": {},
   "outputs": [],
   "source": [
    "def calcula_populacao_media():\n",
    "    pop_pr = 11\n",
    "    pop_rs = 10\n",
    "    pop_sc = 7\n",
    "    numero_estados = 3\n",
    "    populacao_total = pop_pr + pop_rs + pop_sc\n",
    "    populacao_media = populacao_total / numero_estados\n",
    "    print (populacao_media)"
   ]
  },
  {
   "cell_type": "code",
   "execution_count": 31,
   "metadata": {},
   "outputs": [
    {
     "name": "stdout",
     "output_type": "stream",
     "text": [
      "9.333333333333334\n"
     ]
    }
   ],
   "source": [
    "calcula_populacao_media()"
   ]
  },
  {
   "cell_type": "code",
   "execution_count": 33,
   "metadata": {},
   "outputs": [
    {
     "name": "stdout",
     "output_type": "stream",
     "text": [
      "caquigabi\n"
     ]
    }
   ],
   "source": [
    "pseudonimo = \"caquigabi\"\n",
    "print (pseudonimo)"
   ]
  },
  {
   "cell_type": "code",
   "execution_count": 34,
   "metadata": {},
   "outputs": [
    {
     "name": "stdout",
     "output_type": "stream",
     "text": [
      "CAQUIGABI\n"
     ]
    }
   ],
   "source": [
    "pseudonimo_maiusc = pseudonimo.upper()\n",
    "print (pseudonimo_maiusc)\n"
   ]
  },
  {
   "cell_type": "code",
   "execution_count": 36,
   "metadata": {},
   "outputs": [
    {
     "name": "stdout",
     "output_type": "stream",
     "text": [
      "cakuigabi\n"
     ]
    }
   ],
   "source": [
    "pseudonimo = pseudonimo.replace('q', 'k')\n",
    "print(pseudonimo)"
   ]
  },
  {
   "cell_type": "code",
   "execution_count": 38,
   "metadata": {},
   "outputs": [
    {
     "name": "stdout",
     "output_type": "stream",
     "text": [
      "karl☭marx\n"
     ]
    }
   ],
   "source": [
    "comunismo = ('karl marx')\n",
    "comunismo_symbol = comunismo.replace(' ', '☭')\n",
    "print (comunismo_symbol)"
   ]
  },
  {
   "cell_type": "code",
   "execution_count": 42,
   "metadata": {},
   "outputs": [
    {
     "name": "stdout",
     "output_type": "stream",
     "text": [
      "karl☭marx\n",
      "k\n",
      "karl\n",
      "x\n",
      "☭mar\n"
     ]
    }
   ],
   "source": [
    "print(comunismo_symbol)\n",
    "print(comunismo_symbol[0])\n",
    "print(comunismo_symbol[0:4])\n",
    "print(comunismo_symbol[-1])\n",
    "print(comunismo_symbol[4:-1])"
   ]
  }
 ],
 "metadata": {
  "kernelspec": {
   "display_name": "Python 3",
   "language": "python",
   "name": "python3"
  },
  "language_info": {
   "codemirror_mode": {
    "name": "ipython",
    "version": 3
   },
   "file_extension": ".py",
   "mimetype": "text/x-python",
   "name": "python",
   "nbconvert_exporter": "python",
   "pygments_lexer": "ipython3",
   "version": "3.10.8"
  }
 },
 "nbformat": 4,
 "nbformat_minor": 2
}
